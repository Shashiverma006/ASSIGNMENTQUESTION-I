{
  "nbformat": 4,
  "nbformat_minor": 0,
  "metadata": {
    "colab": {
      "private_outputs": true,
      "provenance": []
    },
    "kernelspec": {
      "name": "python3",
      "display_name": "Python 3"
    },
    "language_info": {
      "name": "python"
    }
  },
  "cells": [
    {
      "cell_type": "markdown",
      "source": [
        "q.1 Create a python program to sort the given list of tuples based on integer value using a lambda function.\n",
        "[('sachin Tendulkar', 34357), ('Ricky Ponting', 27483), ('jack Kallis', 25534), ('Virat Kohli', 24936)]"
      ],
      "metadata": {
        "id": "wjtyF0Bhownc"
      }
    },
    {
      "cell_type": "code",
      "source": [
        "name_score = [('sachin Tendulkar', 34357), ('Ricky Ponting', 27483), ('jack Kallis', 25534), ('Virat Kohli', 24936)]\n",
        "print(\"Original list of tuples:\")\n",
        "print(name_score)\n",
        "name_score.sort(key = lambda x: x[1])\n",
        "print(\"\\nSorting the List of Tuples:\")\n",
        "print(name_score)"
      ],
      "metadata": {
        "id": "zi1zJ5fAqyKM"
      },
      "execution_count": null,
      "outputs": []
    },
    {
      "cell_type": "markdown",
      "source": [
        "Q.2 Write a python program to find the square of all the numbers in the given list of integers using lambda and map function.\n",
        "[1, 2, 3, 4, 5, 6, 7, 8, 9, 10]"
      ],
      "metadata": {
        "id": "c4NaKmJhr6X5"
      }
    },
    {
      "cell_type": "code",
      "source": [
        "def sq(x):\n",
        "  return x**2"
      ],
      "metadata": {
        "id": "d9dT-CTFp0rQ"
      },
      "execution_count": null,
      "outputs": []
    },
    {
      "cell_type": "code",
      "source": [
        "l=[1, 2, 3, 4, 5, 6, 7, 8, 9, 10]\n",
        "list(map(sq, l))"
      ],
      "metadata": {
        "id": "oYXDYmiFuFDE"
      },
      "execution_count": null,
      "outputs": []
    },
    {
      "cell_type": "code",
      "source": [
        "l=[1, 2, 3, 4, 5, 6, 7, 8, 9, 10]\n",
        "list(map(lambda x:x**2, l))"
      ],
      "metadata": {
        "id": "LqgEJuTN-1rQ"
      },
      "execution_count": null,
      "outputs": []
    },
    {
      "cell_type": "markdown",
      "source": [
        "Q.3 Write a python program to convert the given list of integers into a tuple of string. Use map and lambda functions.\n",
        "Given String: [1, 2, 3, 4, 5, 6, 7, 8, 9, 10]\n",
        "Expected output: ('1', '2', '3', '4', '5', '6', '7', '8', '9', '10')"
      ],
      "metadata": {
        "id": "UoC2q4aL83IQ"
      }
    },
    {
      "cell_type": "code",
      "source": [
        "l=[1, 2, 3, 4, 5, 6, 7, 8, 9, 10]"
      ],
      "metadata": {
        "id": "PBEkBKd4AXGa"
      },
      "execution_count": null,
      "outputs": []
    },
    {
      "cell_type": "code",
      "source": [
        "l=[1,2,3,4,5,6,7,8,9,10]\n",
        "l=[\"1\",\"2\",\"3\",\"4\",\"5\",\"6\",\"7\",\"8\",\"9\",\"10\"]\n",
        "print(\"\\nTuple of strings:\")\n",
        "list(map(lambda s:s.upper(), l,))"
      ],
      "metadata": {
        "id": "IJSPJGl4_I4u"
      },
      "execution_count": null,
      "outputs": []
    },
    {
      "cell_type": "markdown",
      "source": [
        "Q.4 Write a python program using reduce function to compute the product of a list containing numbers from 1 to 25."
      ],
      "metadata": {
        "id": "sz_lKfk695zP"
      }
    },
    {
      "cell_type": "code",
      "source": [
        "from functools import reduce\n",
        "l=[1,2,3,4,5,6,7,8,9,10,11,12,13, 14,15,1, 17,18,19,20,21,22,23,24,25]\n",
        "reduce(lambda a, b: a * b, l)"
      ],
      "metadata": {
        "id": "L8RV38Sr_KTn"
      },
      "execution_count": null,
      "outputs": []
    },
    {
      "cell_type": "code",
      "source": [
        "from functools import reduce\n",
        "l=[4,5,5]\n",
        "reduce(lambda a, b: a * b, l)"
      ],
      "metadata": {
        "id": "Ljmcgbf5OGxU"
      },
      "execution_count": null,
      "outputs": []
    },
    {
      "cell_type": "code",
      "source": [
        "from functools import reduce\n",
        "l=[4,5,5]\n",
        "reduce(lambda a, b: a + b, l)"
      ],
      "metadata": {
        "id": "dFMUKn-iRGQF"
      },
      "execution_count": null,
      "outputs": []
    },
    {
      "cell_type": "code",
      "source": [
        "def prod(x):\n",
        "  return x*2"
      ],
      "metadata": {
        "id": "wuFdMJ9vRfO6"
      },
      "execution_count": null,
      "outputs": []
    },
    {
      "cell_type": "code",
      "source": [
        "l=[1,2,3,4,5,6,7,8,9,10,11,12,13, 14,15,1, 17,18,19,20,21,22,23,24,25]\n",
        "list(map(prod, l))"
      ],
      "metadata": {
        "id": "bIwQuyUTUXgY"
      },
      "execution_count": null,
      "outputs": []
    },
    {
      "cell_type": "markdown",
      "source": [
        "Q.5 Write a python program to filter the numbers in a given list that are divisible by 2 and 3 using the filter function.\n",
        "[2, 3, 6, 9, 27, 60, 90, 120, 55, 46]"
      ],
      "metadata": {
        "id": "qwvYWqj1-Jp2"
      }
    },
    {
      "cell_type": "code",
      "source": [
        "my_list = [12, 65, 54, 39, 102, 339, 221,]\n",
        "result = list(filter(lambda x: (x % 2 == 0 & x % 3 ==0), my_list))\n",
        "print(\"Numbers divisible by 2 & 3 are\",result)"
      ],
      "metadata": {
        "id": "ZEW_iLPs_LkW"
      },
      "execution_count": null,
      "outputs": []
    },
    {
      "cell_type": "code",
      "source": [
        "lower = int(input(\"Enter lower range limit:\"))\n",
        "upper = int(input(\"Enter upper range limit:\"))\n",
        "for i in range(lower, upper+1):\n",
        "   if((i%2==0) & (i%3==0)):\n",
        "      print(i)"
      ],
      "metadata": {
        "id": "TGGCvd-_cUq2"
      },
      "execution_count": null,
      "outputs": []
    },
    {
      "cell_type": "code",
      "source": [
        "n = int(input(\"Enter the number to be divisible by:\"))\n",
        "n1=int(input(\"Enter the number to be divisible by:\"))\n",
        "for i in range(lower, upper+1):\n",
        "   if(i%n==0) & (i%n1==0):\n",
        "      print(i)"
      ],
      "metadata": {
        "id": "C0vQC6Csc4cG"
      },
      "execution_count": null,
      "outputs": []
    },
    {
      "cell_type": "markdown",
      "source": [
        "Q.6 Write a python program to find palindromes in the given list of string using lambda and filter function.\n",
        "['python' 'php' 'aba' radar' level']"
      ],
      "metadata": {
        "id": "_zjamjqm-owK"
      }
    },
    {
      "cell_type": "code",
      "source": [
        "texts = [\"python\",\"php\",\"aba\",\"radar\",\"level\"]\n",
        "print(\"Orginal list of strings:\")\n",
        "print(texts) \n",
        "result = list(filter(lambda x: (x == \"\".join(reversed(x))), texts)) \n",
        "print(\"\\nList of palindromes:\")\n",
        "print(result) \n"
      ],
      "metadata": {
        "id": "iHz4K8s5_Mva"
      },
      "execution_count": null,
      "outputs": []
    }
  ]
}